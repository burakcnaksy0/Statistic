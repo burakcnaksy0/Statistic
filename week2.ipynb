{
 "cells": [
  {
   "cell_type": "code",
   "execution_count": 1,
   "id": "e797b256",
   "metadata": {},
   "outputs": [],
   "source": [
    "sleeping_per_night = [5,6,6.5,6.5,6.5,7,7,7,7,7,7,7,7,7,7,7,7,7.5,7.5,8,8,8,8,8.5,9]\n"
   ]
  },
  {
   "cell_type": "code",
   "execution_count": 5,
   "id": "b1326049",
   "metadata": {},
   "outputs": [
    {
     "name": "stdout",
     "output_type": "stream",
     "text": [
      "<class 'list'>\n",
      "[5, 6, 6.5, 6.5, 6.5, 7, 7, 7, 7, 7, 7, 7, 7, 7, 7, 7, 7, 7.5, 7.5, 8, 8, 8, 8, 8.5, 9]\n"
     ]
    }
   ],
   "source": [
    "print(type(sleeping_per_night))\n",
    "print(sleeping_per_night)"
   ]
  },
  {
   "cell_type": "code",
   "execution_count": 11,
   "id": "4a634b6b",
   "metadata": {},
   "outputs": [
    {
     "name": "stdout",
     "output_type": "stream",
     "text": [
      "{5: 1, 6: 1, 6.5: 3, 7: 12, 7.5: 2, 8: 4, 8.5: 1, 9: 1}\n"
     ]
    }
   ],
   "source": [
    "sleeping = {}  #empty dict instead of a list\n",
    "for s in sleeping_per_night:\n",
    "    if s in sleeping.keys():\n",
    "        sleeping[s]+=1\n",
    "    else:\n",
    "        sleeping[s]=1 # adds a new key and value to dict.\n",
    "    \n",
    "print(sleeping)"
   ]
  },
  {
   "cell_type": "code",
   "execution_count": 15,
   "id": "d3e5092e",
   "metadata": {},
   "outputs": [
    {
     "name": "stdout",
     "output_type": "stream",
     "text": [
      "          12             \n",
      "                        \n",
      "                        \n",
      "                        \n",
      "                        \n",
      "                        \n",
      "                        \n",
      "                        \n",
      "                4       \n",
      "       3                \n",
      "             2          \n",
      " 1  1              1  1 \n",
      "5.06.06.57.07.58.08.59.0\n"
     ]
    }
   ],
   "source": [
    "for i in range(max(sleeping.values()),0,-1):\n",
    "    for j in sleeping.values():\n",
    "        if i==j:\n",
    "            print(f\" {i} \", end='')\n",
    "        else:\n",
    "            print(f\"   \",end='')\n",
    "    print('')\n",
    "for k in sleeping.keys():\n",
    "    print(f\"{float(k)}\",end='')\n",
    "print('')        \n",
    "    \n",
    "    "
   ]
  },
  {
   "cell_type": "code",
   "execution_count": null,
   "id": "f4a7aea6",
   "metadata": {},
   "outputs": [],
   "source": []
  }
 ],
 "metadata": {
  "kernelspec": {
   "display_name": "Python 3 (ipykernel)",
   "language": "python",
   "name": "python3"
  },
  "language_info": {
   "codemirror_mode": {
    "name": "ipython",
    "version": 3
   },
   "file_extension": ".py",
   "mimetype": "text/x-python",
   "name": "python",
   "nbconvert_exporter": "python",
   "pygments_lexer": "ipython3",
   "version": "3.11.5"
  }
 },
 "nbformat": 4,
 "nbformat_minor": 5
}
