{
 "cells": [
  {
   "cell_type": "code",
   "execution_count": 1,
   "id": "c5eb1297",
   "metadata": {},
   "outputs": [
    {
     "data": {
      "text/plain": [
       "array([1, 2, 3, 4, 5, 6, 7, 8, 9])"
      ]
     },
     "execution_count": 1,
     "metadata": {},
     "output_type": "execute_result"
    }
   ],
   "source": [
    "import numpy as np\n",
    "\n",
    "nparray = np.arange(1,10)\n",
    "nparray"
   ]
  },
  {
   "cell_type": "code",
   "execution_count": 2,
   "id": "4170a1cb",
   "metadata": {},
   "outputs": [
    {
     "data": {
      "text/plain": [
       "array([ 6,  7,  8,  9, 10, 11, 12, 13, 14])"
      ]
     },
     "execution_count": 2,
     "metadata": {},
     "output_type": "execute_result"
    }
   ],
   "source": [
    "nparrayAdd = np.add(nparray,5)\n",
    "nparrayAdd"
   ]
  },
  {
   "cell_type": "code",
   "execution_count": 4,
   "id": "4c19273c",
   "metadata": {},
   "outputs": [
    {
     "data": {
      "text/plain": [
       "array([-4, -3, -2, -1,  0,  1,  2,  3,  4])"
      ]
     },
     "execution_count": 4,
     "metadata": {},
     "output_type": "execute_result"
    }
   ],
   "source": [
    "nparraySubstract = np.subtract(nparray,5)\n",
    "nparraySubstract"
   ]
  },
  {
   "cell_type": "code",
   "execution_count": 5,
   "id": "27d576e2",
   "metadata": {},
   "outputs": [
    {
     "data": {
      "text/plain": [
       "array([ 5, 10, 15, 20, 25, 30, 35, 40, 45])"
      ]
     },
     "execution_count": 5,
     "metadata": {},
     "output_type": "execute_result"
    }
   ],
   "source": [
    "nparrayMultiply = np.multiply(nparray,5)\n",
    "nparrayMultiply"
   ]
  },
  {
   "cell_type": "code",
   "execution_count": 6,
   "id": "a39359fe",
   "metadata": {},
   "outputs": [
    {
     "data": {
      "text/plain": [
       "array([0.2, 0.4, 0.6, 0.8, 1. , 1.2, 1.4, 1.6, 1.8])"
      ]
     },
     "execution_count": 6,
     "metadata": {},
     "output_type": "execute_result"
    }
   ],
   "source": [
    "nparrayDivide = np.divide(nparray,5)\n",
    "nparrayDivide"
   ]
  },
  {
   "cell_type": "code",
   "execution_count": 7,
   "id": "5a630a99",
   "metadata": {},
   "outputs": [
    {
     "data": {
      "text/plain": [
       "array([    1,    32,   243,  1024,  3125,  7776, 16807, 32768, 59049],\n",
       "      dtype=int32)"
      ]
     },
     "execution_count": 7,
     "metadata": {},
     "output_type": "execute_result"
    }
   ],
   "source": [
    "nparrayPower = np.power(nparray,5)\n",
    "nparrayPower"
   ]
  },
  {
   "cell_type": "code",
   "execution_count": 8,
   "id": "b43763c6",
   "metadata": {},
   "outputs": [
    {
     "data": {
      "text/plain": [
       "array([1, 2, 3, 4, 0, 1, 2, 3, 4], dtype=int32)"
      ]
     },
     "execution_count": 8,
     "metadata": {},
     "output_type": "execute_result"
    }
   ],
   "source": [
    "nparrayMod = np.mod(nparray,5)\n",
    "nparrayMod"
   ]
  },
  {
   "cell_type": "code",
   "execution_count": 9,
   "id": "763f7cf6",
   "metadata": {},
   "outputs": [
    {
     "data": {
      "text/plain": [
       "5.0"
      ]
     },
     "execution_count": 9,
     "metadata": {},
     "output_type": "execute_result"
    }
   ],
   "source": [
    "nparray.mean()"
   ]
  },
  {
   "cell_type": "code",
   "execution_count": 10,
   "id": "61b69a3c",
   "metadata": {},
   "outputs": [
    {
     "data": {
      "text/plain": [
       "45"
      ]
     },
     "execution_count": 10,
     "metadata": {},
     "output_type": "execute_result"
    }
   ],
   "source": [
    "nparray.sum()"
   ]
  },
  {
   "cell_type": "code",
   "execution_count": 11,
   "id": "37d6dc6a",
   "metadata": {},
   "outputs": [
    {
     "data": {
      "text/plain": [
       "1"
      ]
     },
     "execution_count": 11,
     "metadata": {},
     "output_type": "execute_result"
    }
   ],
   "source": [
    "nparray.min()"
   ]
  },
  {
   "cell_type": "code",
   "execution_count": 12,
   "id": "a8710711",
   "metadata": {},
   "outputs": [
    {
     "data": {
      "text/plain": [
       "9"
      ]
     },
     "execution_count": 12,
     "metadata": {},
     "output_type": "execute_result"
    }
   ],
   "source": [
    "nparray.max()"
   ]
  },
  {
   "cell_type": "code",
   "execution_count": null,
   "id": "c62018cc",
   "metadata": {},
   "outputs": [],
   "source": []
  }
 ],
 "metadata": {
  "kernelspec": {
   "display_name": "Python 3 (ipykernel)",
   "language": "python",
   "name": "python3"
  },
  "language_info": {
   "codemirror_mode": {
    "name": "ipython",
    "version": 3
   },
   "file_extension": ".py",
   "mimetype": "text/x-python",
   "name": "python",
   "nbconvert_exporter": "python",
   "pygments_lexer": "ipython3",
   "version": "3.11.5"
  }
 },
 "nbformat": 4,
 "nbformat_minor": 5
}
