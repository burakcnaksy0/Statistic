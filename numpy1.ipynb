{
 "cells": [
  {
   "cell_type": "code",
   "execution_count": null,
   "id": "e22aea2c",
   "metadata": {},
   "outputs": [],
   "source": [
    "Numpy Array\n",
    "\n",
    "1- direkt liste gibi tanımlanır\n",
    "2- zeros() fonksiyonu ile tüm elemanları 0 olan dizi tanımlarız.\n",
    "3- ones() fonksiyonu ile tüm elemanları 1 olan dizi tanımlarız.\n",
    "4- full() fonksiyonu ile tüm elemanları aynı olan dizi tanımlarız.\n",
    "5- arange() fonksiyonu ile belirli aralıkta, sabit artış ile dizi tanımlarız.\n",
    "6- lnspace() fonksiyonu ile belirli aralıkta eleman sayısına göre sabit bir artış ile dizi tanımlarız.\n",
    "7- randint() fonksiyonu ile belirli aralıkta rastgele eleman üreterek dizi tanımlarız."
   ]
  },
  {
   "cell_type": "code",
   "execution_count": 2,
   "id": "25d30f20",
   "metadata": {},
   "outputs": [
    {
     "name": "stdout",
     "output_type": "stream",
     "text": [
      "<class 'numpy.ndarray'>\n",
      "[1 2 3 4 5]\n"
     ]
    }
   ],
   "source": [
    "import numpy as np\n",
    "\n",
    "npArrayList = np.array([1,2,3,4,5])\n",
    "print(type(npArrayList))\n",
    "print(npArrayList)"
   ]
  },
  {
   "cell_type": "code",
   "execution_count": 4,
   "id": "2e59909d",
   "metadata": {},
   "outputs": [
    {
     "name": "stdout",
     "output_type": "stream",
     "text": [
      "<class 'numpy.ndarray'>\n",
      "[0 0 0 0 0]\n"
     ]
    }
   ],
   "source": [
    "npZeroArray = np.zeros(5,dtype=\"int\")\n",
    "print(type(npZeroArray))\n",
    "print(npZeroArray)"
   ]
  },
  {
   "cell_type": "code",
   "execution_count": 10,
   "id": "b3733ece",
   "metadata": {},
   "outputs": [
    {
     "name": "stdout",
     "output_type": "stream",
     "text": [
      "<class 'numpy.ndarray'>\n",
      "[[0 0 0 0 0]\n",
      " [0 0 0 0 0]\n",
      " [0 0 0 0 0]\n",
      " [0 0 0 0 0]\n",
      " [0 0 0 0 0]]\n"
     ]
    }
   ],
   "source": [
    "npZeroArray2D = np.zeros((5,5),dtype=\"int\") # np.zeros(kaçlık dizi, veri tipi)\n",
    "print(type(npZeroArray2D))\n",
    "print(npZeroArray2D)"
   ]
  },
  {
   "cell_type": "code",
   "execution_count": 11,
   "id": "0c15723e",
   "metadata": {},
   "outputs": [
    {
     "name": "stdout",
     "output_type": "stream",
     "text": [
      "<class 'numpy.ndarray'>\n",
      "[1 1 1 1 1]\n"
     ]
    }
   ],
   "source": [
    "npOneArray = np.ones(5,dtype=\"int\")\n",
    "print(type(npOneArray))\n",
    "print(npOneArray)"
   ]
  },
  {
   "cell_type": "code",
   "execution_count": 12,
   "id": "e1f0c557",
   "metadata": {},
   "outputs": [
    {
     "name": "stdout",
     "output_type": "stream",
     "text": [
      "<class 'numpy.ndarray'>\n",
      "[[1 1 1 1 1]\n",
      " [1 1 1 1 1]\n",
      " [1 1 1 1 1]\n",
      " [1 1 1 1 1]\n",
      " [1 1 1 1 1]]\n"
     ]
    }
   ],
   "source": [
    "npOneArray2D = np.ones((5,5),dtype=\"int\")  # np.ones(kaçlık dizi, veri tipi)\n",
    "print(type(npOneArray2D))\n",
    "print(npOneArray2D)"
   ]
  },
  {
   "cell_type": "code",
   "execution_count": 15,
   "id": "743f076b",
   "metadata": {},
   "outputs": [
    {
     "name": "stdout",
     "output_type": "stream",
     "text": [
      "<class 'numpy.ndarray'>\n",
      "[[4 4 4 4 4]\n",
      " [4 4 4 4 4]\n",
      " [4 4 4 4 4]\n",
      " [4 4 4 4 4]\n",
      " [4 4 4 4 4]]\n"
     ]
    }
   ],
   "source": [
    "npFullArray = np.full((5,5),4)   # np.full(kaçlık dizi,hangi sayı)\n",
    "print(type(npFullArray))\n",
    "print(npFullArray)\n"
   ]
  },
  {
   "cell_type": "code",
   "execution_count": 19,
   "id": "82af98d2",
   "metadata": {},
   "outputs": [
    {
     "name": "stdout",
     "output_type": "stream",
     "text": [
      "<class 'numpy.ndarray'>\n",
      "[ 0  5 10 15 20 25 30 35 40 45]\n"
     ]
    }
   ],
   "source": [
    "npArrangeArray = np.arange(0,50,5)  # np.arrange(başlangıç,bitiş,artış miktarı)\n",
    "print(type(npArrangeArray))\n",
    "print(npArrangeArray)"
   ]
  },
  {
   "cell_type": "code",
   "execution_count": 20,
   "id": "25908ed8",
   "metadata": {},
   "outputs": [
    {
     "name": "stdout",
     "output_type": "stream",
     "text": [
      "<class 'numpy.ndarray'>\n",
      "[ 0.          5.55555556 11.11111111 16.66666667 22.22222222 27.77777778\n",
      " 33.33333333 38.88888889 44.44444444 50.        ]\n"
     ]
    }
   ],
   "source": [
    "npLinspaceArray = np.linspace(0,50,10)  # np.linspace(başlangıç,bitiş, eleman sayısı)\n",
    "print(type(npLinspaceArray))\n",
    "print(npLinspaceArray)"
   ]
  },
  {
   "cell_type": "code",
   "execution_count": 24,
   "id": "3f22dcc0",
   "metadata": {},
   "outputs": [
    {
     "name": "stdout",
     "output_type": "stream",
     "text": [
      "<class 'numpy.ndarray'>\n",
      "[[29 26  2 34 33]\n",
      " [22 17 34  8 15]\n",
      " [33 14 22 37 12]\n",
      " [ 8 10 16 15 39]\n",
      " [39 29 12 16 41]]\n"
     ]
    }
   ],
   "source": [
    "npRandomArray = np.random.randint(0,50,(5,5))  # np.random.randomint(başlangıç,bitiş,dizi boyutu)\n",
    "print(type(npRandomArray))\n",
    "print(npRandomArray)"
   ]
  }
 ],
 "metadata": {
  "kernelspec": {
   "display_name": "Python 3 (ipykernel)",
   "language": "python",
   "name": "python3"
  },
  "language_info": {
   "codemirror_mode": {
    "name": "ipython",
    "version": 3
   },
   "file_extension": ".py",
   "mimetype": "text/x-python",
   "name": "python",
   "nbconvert_exporter": "python",
   "pygments_lexer": "ipython3",
   "version": "3.11.5"
  }
 },
 "nbformat": 4,
 "nbformat_minor": 5
}
