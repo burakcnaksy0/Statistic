{
 "cells": [
  {
   "cell_type": "code",
   "execution_count": 4,
   "id": "3127da0a",
   "metadata": {},
   "outputs": [
    {
     "data": {
      "text/html": [
       "<div>\n",
       "<style scoped>\n",
       "    .dataframe tbody tr th:only-of-type {\n",
       "        vertical-align: middle;\n",
       "    }\n",
       "\n",
       "    .dataframe tbody tr th {\n",
       "        vertical-align: top;\n",
       "    }\n",
       "\n",
       "    .dataframe thead th {\n",
       "        text-align: right;\n",
       "    }\n",
       "</style>\n",
       "<table border=\"1\" class=\"dataframe\">\n",
       "  <thead>\n",
       "    <tr style=\"text-align: right;\">\n",
       "      <th></th>\n",
       "      <th>ogrenciler</th>\n",
       "      <th>dersler</th>\n",
       "      <th>notlar</th>\n",
       "    </tr>\n",
       "  </thead>\n",
       "  <tbody>\n",
       "    <tr>\n",
       "      <th>0</th>\n",
       "      <td>burak</td>\n",
       "      <td>türkçe</td>\n",
       "      <td>100</td>\n",
       "    </tr>\n",
       "    <tr>\n",
       "      <th>1</th>\n",
       "      <td>ceren</td>\n",
       "      <td>matematik</td>\n",
       "      <td>75</td>\n",
       "    </tr>\n",
       "    <tr>\n",
       "      <th>2</th>\n",
       "      <td>ali</td>\n",
       "      <td>türkçe</td>\n",
       "      <td>95</td>\n",
       "    </tr>\n",
       "    <tr>\n",
       "      <th>3</th>\n",
       "      <td>elif</td>\n",
       "      <td>fizik</td>\n",
       "      <td>85</td>\n",
       "    </tr>\n",
       "    <tr>\n",
       "      <th>4</th>\n",
       "      <td>beril</td>\n",
       "      <td>kimya</td>\n",
       "      <td>70</td>\n",
       "    </tr>\n",
       "  </tbody>\n",
       "</table>\n",
       "</div>"
      ],
      "text/plain": [
       "  ogrenciler    dersler  notlar\n",
       "0      burak     türkçe     100\n",
       "1      ceren  matematik      75\n",
       "2        ali     türkçe      95\n",
       "3       elif      fizik      85\n",
       "4      beril      kimya      70"
      ]
     },
     "execution_count": 4,
     "metadata": {},
     "output_type": "execute_result"
    }
   ],
   "source": [
    "import pandas as pd\n",
    "import numpy as np\n",
    "\n",
    "df_dersler=pd.DataFrame({\"ogrenciler\":[\"burak\",\"ceren\",\"ali\",\"elif\",\"beril\"],\"dersler\":[\"türkçe\",\"matematik\",\"türkçe\",\"fizik\",\"kimya\"]})\n",
    "df_notlar=pd.DataFrame({\"ogrenciler\":[\"burak\",\"ceren\",\"ali\",\"elif\",\"beril\"],\"notlar\":[100,75,95,85,70]})\n",
    "df_son=pd.merge(df_dersler,df_notlar,on=\"ogrenciler\")\n",
    "df_son"
   ]
  },
  {
   "cell_type": "code",
   "execution_count": null,
   "id": "737983d9",
   "metadata": {},
   "outputs": [],
   "source": []
  }
 ],
 "metadata": {
  "kernelspec": {
   "display_name": "Python 3 (ipykernel)",
   "language": "python",
   "name": "python3"
  },
  "language_info": {
   "codemirror_mode": {
    "name": "ipython",
    "version": 3
   },
   "file_extension": ".py",
   "mimetype": "text/x-python",
   "name": "python",
   "nbconvert_exporter": "python",
   "pygments_lexer": "ipython3",
   "version": "3.11.5"
  }
 },
 "nbformat": 4,
 "nbformat_minor": 5
}
