{
 "cells": [
  {
   "cell_type": "code",
   "execution_count": null,
   "id": "145a30fc",
   "metadata": {},
   "outputs": [],
   "source": [
    "array elemanlarına erişmek\n",
    "\n",
    "1- index yardımıyla elemanlara erişmek\n",
    "2- parçalama yardımıyla eleman alt kümelere erişmek"
   ]
  },
  {
   "cell_type": "code",
   "execution_count": 4,
   "id": "9787836c",
   "metadata": {},
   "outputs": [
    {
     "name": "stdout",
     "output_type": "stream",
     "text": [
      "[1 2 3 4 5]\n",
      "1\n",
      "5\n",
      "3\n",
      "3\n",
      "[0 2 3 4 5]\n"
     ]
    }
   ],
   "source": [
    "import numpy as np\n",
    "\n",
    "npArray = np.array([1,2,3,4,5])\n",
    "print(npArray)\n",
    "print(npArray[0])\n",
    "print(npArray[-1])\n",
    "print(npArray[2])\n",
    "print(npArray[-3])\n",
    "\n",
    "npArray[0] = 0\n",
    "print(npArray)"
   ]
  },
  {
   "cell_type": "code",
   "execution_count": 12,
   "id": "858eecd7",
   "metadata": {},
   "outputs": [
    {
     "name": "stdout",
     "output_type": "stream",
     "text": [
      "[[ 9 23  4 39 34]\n",
      " [42 46 40 13 34]\n",
      " [25  8  9 49 29]\n",
      " [19 47 25 35 35]\n",
      " [13 49 17 43 20]]\n",
      "4\n",
      "[[61 23  4 39 34]\n",
      " [42 46 40 13 34]\n",
      " [25  8  9 49 29]\n",
      " [19 47 25 35 35]\n",
      " [13 49 17 43 20]]\n"
     ]
    }
   ],
   "source": [
    "npArray2d = np.random.randint(0,50,(5,5))\n",
    "print(npArray2d)\n",
    "print(npArray2d[0][2])\n",
    "\n",
    "npArray2d[0][0] = 61\n",
    "print(npArray2d)\n"
   ]
  },
  {
   "cell_type": "code",
   "execution_count": 14,
   "id": "c9ecc90e",
   "metadata": {},
   "outputs": [
    {
     "name": "stdout",
     "output_type": "stream",
     "text": [
      "[ 0  1  2  3  4  5  6  7  8  9 10 11 12 13 14 15 16 17 18 19 20 21 22 23\n",
      " 24 25 26 27 28 29 30 31 32 33 34 35 36 37 38 39 40 41 42 43 44 45 46 47\n",
      " 48 49]\n"
     ]
    }
   ],
   "source": [
    "nparray = np.arange(0,50)\n",
    "print(nparray)"
   ]
  },
  {
   "cell_type": "code",
   "execution_count": 15,
   "id": "4b4490ae",
   "metadata": {},
   "outputs": [
    {
     "data": {
      "text/plain": [
       "array([ 0,  1,  2,  3,  4,  5,  6,  7,  8,  9, 10, 11, 12, 13, 14, 15, 16,\n",
       "       17, 18, 19, 20, 21, 22, 23, 24, 25, 26, 27, 28, 29, 30, 31, 32, 33,\n",
       "       34, 35, 36, 37, 38, 39, 40, 41, 42, 43, 44, 45, 46, 47, 48, 49])"
      ]
     },
     "execution_count": 15,
     "metadata": {},
     "output_type": "execute_result"
    }
   ],
   "source": [
    "nparray[::]"
   ]
  },
  {
   "cell_type": "code",
   "execution_count": 16,
   "id": "501a568d",
   "metadata": {},
   "outputs": [
    {
     "data": {
      "text/plain": [
       "array([ 0,  5, 10, 15, 20, 25, 30, 35, 40, 45])"
      ]
     },
     "execution_count": 16,
     "metadata": {},
     "output_type": "execute_result"
    }
   ],
   "source": [
    "nparray[::5]"
   ]
  },
  {
   "cell_type": "code",
   "execution_count": 17,
   "id": "d22b6317",
   "metadata": {},
   "outputs": [
    {
     "data": {
      "text/plain": [
       "array([ 0,  5, 10])"
      ]
     },
     "execution_count": 17,
     "metadata": {},
     "output_type": "execute_result"
    }
   ],
   "source": [
    "nparray[:15:5]\n"
   ]
  },
  {
   "cell_type": "code",
   "execution_count": 18,
   "id": "283abc84",
   "metadata": {},
   "outputs": [
    {
     "data": {
      "text/plain": [
       "array([15, 20, 25, 30, 35, 40, 45])"
      ]
     },
     "execution_count": 18,
     "metadata": {},
     "output_type": "execute_result"
    }
   ],
   "source": [
    "nparray[15::5]"
   ]
  }
 ],
 "metadata": {
  "kernelspec": {
   "display_name": "Python 3 (ipykernel)",
   "language": "python",
   "name": "python3"
  },
  "language_info": {
   "codemirror_mode": {
    "name": "ipython",
    "version": 3
   },
   "file_extension": ".py",
   "mimetype": "text/x-python",
   "name": "python",
   "nbconvert_exporter": "python",
   "pygments_lexer": "ipython3",
   "version": "3.11.5"
  }
 },
 "nbformat": 4,
 "nbformat_minor": 5
}
