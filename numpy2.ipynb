{
 "cells": [
  {
   "cell_type": "code",
   "execution_count": null,
   "id": "a708b83d",
   "metadata": {},
   "outputs": [],
   "source": [
    "Numpy Array Bilgileri\n",
    "\n",
    "1- dtype : arraydeki elemanların veri tipi\n",
    "2- size : arraydeki toplam eleman sayısı \n",
    "3- ndim : arrayin boyut sayısı \n",
    "4 - shape : arrayin satır-sütun bilgisi "
   ]
  },
  {
   "cell_type": "code",
   "execution_count": 7,
   "id": "d5b9143b",
   "metadata": {},
   "outputs": [
    {
     "name": "stdout",
     "output_type": "stream",
     "text": [
      "[1 2 3 4 5]\n",
      "int32\n",
      "5\n",
      "1\n",
      "(5,)\n"
     ]
    }
   ],
   "source": [
    "import numpy as np\n",
    "\n",
    "npArray= np.array([1,2,3,4,5])\n",
    "print(npArray)\n",
    "print(npArray.dtype)\n",
    "print(npArray.size)\n",
    "print(npArray.ndim)\n",
    "print(npArray.shape)"
   ]
  },
  {
   "cell_type": "code",
   "execution_count": 9,
   "id": "3d093409",
   "metadata": {},
   "outputs": [
    {
     "name": "stdout",
     "output_type": "stream",
     "text": [
      "[[31 42 32  0 28]\n",
      " [42 10 15  0  2]\n",
      " [ 1 22 35 40 27]\n",
      " [ 6 37 10 44  3]\n",
      " [ 6 27 47 25 12]]\n",
      "int32\n",
      "25\n",
      "2\n",
      "(5, 5)\n"
     ]
    }
   ],
   "source": [
    "npArray2D = np.random.randint(0,50,(5,5))\n",
    "print(npArray2D)\n",
    "print(npArray2D.dtype)\n",
    "print(npArray2D.size)\n",
    "print(npArray2D.ndim)\n",
    "print(npArray2D.shape)"
   ]
  }
 ],
 "metadata": {
  "kernelspec": {
   "display_name": "Python 3 (ipykernel)",
   "language": "python",
   "name": "python3"
  },
  "language_info": {
   "codemirror_mode": {
    "name": "ipython",
    "version": 3
   },
   "file_extension": ".py",
   "mimetype": "text/x-python",
   "name": "python",
   "nbconvert_exporter": "python",
   "pygments_lexer": "ipython3",
   "version": "3.11.5"
  }
 },
 "nbformat": 4,
 "nbformat_minor": 5
}
