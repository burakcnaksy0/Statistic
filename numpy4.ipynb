{
 "cells": [
  {
   "cell_type": "code",
   "execution_count": null,
   "id": "ef9991f3",
   "metadata": {},
   "outputs": [],
   "source": [
    "hazır fonksiyonlar \n",
    "\n",
    "1- reshape() numpy arrayi yeniden boyutlandırmak için kullanılır.\n",
    "2- concatenate() numpy arrrayleri birleştirmek için kullanılır.\n",
    "3- split() numpy arrayi bölmek-ayırmak için kullanılır.\n",
    "4- sort() numpy arrayi sıralamak için kullanılır. "
   ]
  },
  {
   "cell_type": "code",
   "execution_count": 12,
   "id": "45866fcb",
   "metadata": {},
   "outputs": [
    {
     "data": {
      "text/plain": [
       "array([1, 2, 3, 4, 5, 6, 7, 8, 9])"
      ]
     },
     "execution_count": 12,
     "metadata": {},
     "output_type": "execute_result"
    }
   ],
   "source": [
    "import numpy as np\n",
    "\n",
    "nparray = np.arange(1,10)\n",
    "nparray"
   ]
  },
  {
   "cell_type": "code",
   "execution_count": 14,
   "id": "0c23b88f",
   "metadata": {},
   "outputs": [
    {
     "data": {
      "text/plain": [
       "array([[1],\n",
       "       [2],\n",
       "       [3],\n",
       "       [4],\n",
       "       [5],\n",
       "       [6],\n",
       "       [7],\n",
       "       [8],\n",
       "       [9]])"
      ]
     },
     "execution_count": 14,
     "metadata": {},
     "output_type": "execute_result"
    }
   ],
   "source": [
    "nparray3d = nparray.reshape((3,3))\n",
    "nparray3d\n",
    "\n",
    "nparray9d = nparray.reshape((9,1))\n",
    "nparray9d"
   ]
  },
  {
   "cell_type": "code",
   "execution_count": 16,
   "id": "981cf2c7",
   "metadata": {},
   "outputs": [
    {
     "data": {
      "text/plain": [
       "array([ 0,  1,  2,  3,  4,  5,  6,  7,  8,  9, 10, 11, 12, 13, 14, 15, 16,\n",
       "       17, 18, 19])"
      ]
     },
     "execution_count": 16,
     "metadata": {},
     "output_type": "execute_result"
    }
   ],
   "source": [
    "a = np.arange(0,10)\n",
    "b = np.arange(10,20)\n",
    "c = np.concatenate([a,b])\n",
    "c"
   ]
  },
  {
   "cell_type": "code",
   "execution_count": 19,
   "id": "7d371444",
   "metadata": {},
   "outputs": [
    {
     "name": "stdout",
     "output_type": "stream",
     "text": [
      "[[ 1  2  3  4  5]\n",
      " [ 1  2  3  4  5]\n",
      " [ 6  7  8  9 10]\n",
      " [ 6  7  8  9 10]]\n",
      "[[ 1  2  3  4  5  6  7  8  9 10]\n",
      " [ 1  2  3  4  5  6  7  8  9 10]]\n"
     ]
    }
   ],
   "source": [
    "a = np.array([[1,2,3,4,5],[1,2,3,4,5]])\n",
    "b = np.array([[6,7,8,9,10],[6,7,8,9,10]])\n",
    "c = np.concatenate([a,b])  # alt alta ekleme yapılır. \n",
    "d = np.concatenate([a,b],axis=1)   # yan yana ekleme yapılır.\n",
    "print(c)\n",
    "print(d)"
   ]
  },
  {
   "cell_type": "code",
   "execution_count": 20,
   "id": "0cb82a5c",
   "metadata": {},
   "outputs": [
    {
     "name": "stdout",
     "output_type": "stream",
     "text": [
      "[1 2 3]\n",
      "[4 5 6]\n",
      "[7 8 9]\n"
     ]
    }
   ],
   "source": [
    "nparray = np.arange(1,10)\n",
    "a,b,c = np.split(nparray,3)\n",
    "print(a)\n",
    "print(b)\n",
    "print(c)"
   ]
  },
  {
   "cell_type": "code",
   "execution_count": 21,
   "id": "5bf44ae9",
   "metadata": {},
   "outputs": [
    {
     "data": {
      "text/plain": [
       "array([[20,  8, 39, 23],\n",
       "       [27,  5, 48, 16],\n",
       "       [29, 49, 46, 41],\n",
       "       [32, 24, 42, 14]])"
      ]
     },
     "execution_count": 21,
     "metadata": {},
     "output_type": "execute_result"
    }
   ],
   "source": [
    "nparray2d = np.random.randint(0,50,(4,4))\n",
    "nparray2d"
   ]
  },
  {
   "cell_type": "code",
   "execution_count": 23,
   "id": "60fe2e6d",
   "metadata": {},
   "outputs": [
    {
     "data": {
      "text/plain": [
       "array([[20,  8, 39, 23],\n",
       "       [27,  5, 48, 16]])"
      ]
     },
     "execution_count": 23,
     "metadata": {},
     "output_type": "execute_result"
    }
   ],
   "source": [
    "a,b=np.vsplit(nparray2d,[2])\n",
    "print(a)\n",
    "print(b)"
   ]
  },
  {
   "cell_type": "code",
   "execution_count": 25,
   "id": "e9b79ca0",
   "metadata": {},
   "outputs": [
    {
     "name": "stdout",
     "output_type": "stream",
     "text": [
      "[[20  8]\n",
      " [27  5]\n",
      " [29 49]\n",
      " [32 24]]\n",
      "[[39 23]\n",
      " [48 16]\n",
      " [46 41]\n",
      " [42 14]]\n"
     ]
    }
   ],
   "source": [
    "c,d = np.hsplit(nparray2d,[2])\n",
    "print(c)\n",
    "print(d)"
   ]
  },
  {
   "cell_type": "code",
   "execution_count": 27,
   "id": "6abfe9ea",
   "metadata": {},
   "outputs": [
    {
     "name": "stdout",
     "output_type": "stream",
     "text": [
      "[[30 41 27  5 45 45 39 46 16  1]]\n",
      "[[ 1  5 16 27 30 39 41 45 45 46]]\n"
     ]
    }
   ],
   "source": [
    "randomarray = np.random.randint(0,50,(1,10))\n",
    "print(randomarray)\n",
    "sortedarray = np.sort(randomarray)\n",
    "print(sortedarray)"
   ]
  },
  {
   "cell_type": "code",
   "execution_count": 28,
   "id": "637c0cf8",
   "metadata": {},
   "outputs": [],
   "source": [
    "randomarray2d = np.random.randint(0,50,(5,10))\n",
    "sortedarray2d = np.sort(randomarray2d)    # yatayda sıralama \n",
    "sortedarray2deks = np.sort(randomarray2d,axis=0)   # dikeyde sıralama \n"
   ]
  },
  {
   "cell_type": "code",
   "execution_count": 29,
   "id": "a4e3dfbb",
   "metadata": {},
   "outputs": [
    {
     "name": "stdout",
     "output_type": "stream",
     "text": [
      "[[ 1  4  8  9 23 23 25 26 43 44]\n",
      " [ 0  3 11 22 32 35 43 43 45 47]\n",
      " [ 5  6  8 10 12 12 19 20 32 47]\n",
      " [ 3  6  8 16 22 23 25 26 44 45]\n",
      " [ 1  3  7 17 25 25 37 40 44 49]]\n"
     ]
    }
   ],
   "source": [
    "print(sortedarray2d)"
   ]
  },
  {
   "cell_type": "code",
   "execution_count": 30,
   "id": "6d56a6f3",
   "metadata": {},
   "outputs": [
    {
     "name": "stdout",
     "output_type": "stream",
     "text": [
      "[[20  4 22  0  5  6 11  1  3  1]\n",
      " [22  8 23  7  8  6 12 12  3  3]\n",
      " [23 26 32  8 26 25 16 25  9 19]\n",
      " [44 40 43 10 37 25 17 43 35 23]\n",
      " [49 47 44 45 45 32 43 44 47 25]]\n"
     ]
    }
   ],
   "source": [
    "print(sortedarray2deks)"
   ]
  }
 ],
 "metadata": {
  "kernelspec": {
   "display_name": "Python 3 (ipykernel)",
   "language": "python",
   "name": "python3"
  },
  "language_info": {
   "codemirror_mode": {
    "name": "ipython",
    "version": 3
   },
   "file_extension": ".py",
   "mimetype": "text/x-python",
   "name": "python",
   "nbconvert_exporter": "python",
   "pygments_lexer": "ipython3",
   "version": "3.11.5"
  }
 },
 "nbformat": 4,
 "nbformat_minor": 5
}
